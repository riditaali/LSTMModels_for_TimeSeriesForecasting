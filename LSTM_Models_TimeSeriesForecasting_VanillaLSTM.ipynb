{
  "nbformat": 4,
  "nbformat_minor": 0,
  "metadata": {
    "colab": {
      "provenance": []
    },
    "kernelspec": {
      "name": "python3",
      "display_name": "Python 3"
    },
    "language_info": {
      "name": "python"
    }
  },
  "cells": [
    {
      "cell_type": "markdown",
      "source": [
        "https://machinelearningmastery.com/how-to-develop-lstm-models-for-time-series-forecasting/"
      ],
      "metadata": {
        "id": "NcO9BM50EweX"
      }
    },
    {
      "cell_type": "markdown",
      "source": [
        "# **Univariate LSTM Models: Vanilla LSTM**"
      ],
      "metadata": {
        "id": "lTr4EjntmqMU"
      }
    },
    {
      "cell_type": "markdown",
      "source": [
        "*The first two blocks are examples of data preparation*"
      ],
      "metadata": {
        "id": "RMU0ZbIKLunc"
      }
    },
    {
      "cell_type": "code",
      "source": [
        "###Data Preparation\n",
        "\n",
        "[10, 20, 30, 40, 50, 60, 70, 80, 90] #a univariate sequence"
      ],
      "metadata": {
        "colab": {
          "base_uri": "https://localhost:8080/"
        },
        "id": "xgnqoG4DFOyA",
        "outputId": "14184b6f-0ed7-4bd5-c040-8068c585d879"
      },
      "execution_count": null,
      "outputs": [
        {
          "output_type": "execute_result",
          "data": {
            "text/plain": [
              "[10, 20, 30, 40, 50, 60, 70, 80, 90]"
            ]
          },
          "metadata": {},
          "execution_count": 1
        }
      ]
    },
    {
      "cell_type": "code",
      "source": [
        "X = [10, 20, 30,\n",
        "    20, 30, 40,\n",
        "    30, 40, 50]\n",
        "\n",
        "y = [40, 50, 60]\n"
      ],
      "metadata": {
        "id": "KQXaNkMNFeKp"
      },
      "execution_count": null,
      "outputs": []
    },
    {
      "cell_type": "code",
      "source": [
        "###split_sequence() function =\n",
        "###above behaviour =\n",
        "### if n_steps are chosen as 3 then three numbers are selected as inputs and the fourth number is selected as output and again this repeated\n",
        "\n",
        "def split_sequence(sequence, n_steps):\n",
        "\tX, y = list(), list()\n",
        "\tfor i in range(len(sequence)):\n",
        "\t\t# find the end of this pattern\n",
        "\t\tend_ix = i + n_steps\n",
        "\t\t# check if we are beyond the sequence\n",
        "\t\tif end_ix > len(sequence)-1:\n",
        "\t\t\tbreak\n",
        "\t\t# gather input and output parts of the pattern\n",
        "\t\tseq_x, seq_y = sequence[i:end_ix], sequence[end_ix]\n",
        "\t\tX.append(seq_x)\n",
        "\t\ty.append(seq_y)\n",
        "\treturn array(X), array(y)"
      ],
      "metadata": {
        "id": "LDnnTlAwGF9O"
      },
      "execution_count": null,
      "outputs": []
    },
    {
      "cell_type": "code",
      "source": [
        "### import libraries for univariate\n",
        "\n",
        "from numpy import array\n",
        "\n",
        "# univariate lstm example\n",
        "from numpy import array\n",
        "from keras.models import Sequential\n",
        "from keras.layers import LSTM\n",
        "from keras.layers import Dense"
      ],
      "metadata": {
        "id": "zROK7FtmHR6N"
      },
      "execution_count": null,
      "outputs": []
    },
    {
      "cell_type": "code",
      "source": [
        "# define input sequence\n",
        "raw_seq = [10, 20, 30, 40, 50, 60, 70, 80, 90]\n",
        "# choose a number of time steps\n",
        "n_steps = 3\n",
        "# split into samples\n",
        "X, y = split_sequence(raw_seq, n_steps)\n",
        "# summarize the data\n",
        "for i in range(len(X)):\n",
        "\tprint(X[i], y[i])"
      ],
      "metadata": {
        "colab": {
          "base_uri": "https://localhost:8080/"
        },
        "id": "k-psmWbrHfEE",
        "outputId": "c8dc6518-3040-4f6e-a059-1dbcb3da8d55"
      },
      "execution_count": null,
      "outputs": [
        {
          "output_type": "stream",
          "name": "stdout",
          "text": [
            "[10 20 30] 40\n",
            "[20 30 40] 50\n",
            "[30 40 50] 60\n",
            "[40 50 60] 70\n",
            "[50 60 70] 80\n",
            "[60 70 80] 90\n"
          ]
        }
      ]
    },
    {
      "cell_type": "markdown",
      "source": [
        "Vanilla LSTM: an LSTM model that has a single hidden layer of LSTM units, and an output layer used to make a prediction"
      ],
      "metadata": {
        "id": "Bzf4wsP_Jfhy"
      }
    },
    {
      "cell_type": "code",
      "source": [
        "#a Vanilla LSTM for univariate time series forecasting\n",
        "# define model\n",
        "model = Sequential()\n",
        "model.add(LSTM(50, activation='relu', input_shape=(n_steps, n_features)))\n",
        "model.add(Dense(1))\n",
        "model.compile(optimizer='adam', loss='mse')"
      ],
      "metadata": {
        "colab": {
          "base_uri": "https://localhost:8080/"
        },
        "id": "ipLwiazIKk_H",
        "outputId": "d48436dd-a9d8-4951-a10e-b8a677933129"
      },
      "execution_count": null,
      "outputs": [
        {
          "output_type": "stream",
          "name": "stderr",
          "text": [
            "/usr/local/lib/python3.10/dist-packages/keras/src/layers/rnn/rnn.py:204: UserWarning: Do not pass an `input_shape`/`input_dim` argument to a layer. When using Sequential models, prefer using an `Input(shape)` object as the first layer in the model instead.\n",
            "  super().__init__(**kwargs)\n"
          ]
        }
      ]
    },
    {
      "cell_type": "code",
      "source": [
        "# reshape from [samples, timesteps] into [samples, timesteps, features]\n",
        "n_features = 1\n",
        "X = X.reshape((X.shape[0], X.shape[1], n_features))"
      ],
      "metadata": {
        "id": "_VufNBtqJujy"
      },
      "execution_count": null,
      "outputs": []
    },
    {
      "cell_type": "markdown",
      "source": [
        "A model with *50 LSTM units in the hidden layer* and an *output layer that predicts a single numerical value*.\n",
        "The model is fit using the efficient Adam version of *stochastic gradient descent* and *optimised* using the *mean squared error*, or *‘mse‘ loss function*."
      ],
      "metadata": {
        "id": "O4LoDcQuJ6v2"
      }
    },
    {
      "cell_type": "code",
      "source": [
        "# fit model\n",
        "model.fit(X, y, epochs=200, verbose=0) #epoch: the number of complete passes through the training dataset"
      ],
      "metadata": {
        "colab": {
          "base_uri": "https://localhost:8080/"
        },
        "id": "aSrrrQGmKaYR",
        "outputId": "42e2c53a-8fe1-45e5-db28-717684974dd8"
      },
      "execution_count": null,
      "outputs": [
        {
          "output_type": "execute_result",
          "data": {
            "text/plain": [
              "<keras.src.callbacks.history.History at 0x79728a6be950>"
            ]
          },
          "metadata": {},
          "execution_count": 17
        }
      ]
    },
    {
      "cell_type": "code",
      "source": [
        "# demonstrate prediction\n",
        "x_input = array([70, 80, 90])\n",
        "x_input = x_input.reshape((1, n_steps, n_features))\n",
        "yhat = model.predict(x_input, verbose=0)\n",
        "print(yhat) #the model predicts the next value in the sequence"
      ],
      "metadata": {
        "colab": {
          "base_uri": "https://localhost:8080/"
        },
        "id": "ulUeqT4sLQNk",
        "outputId": "4a33ca1b-b94b-4253-de78-d7ca3bd02b4d"
      },
      "execution_count": null,
      "outputs": [
        {
          "output_type": "stream",
          "name": "stdout",
          "text": [
            "[[103.2039]]\n"
          ]
        }
      ]
    }
  ]
}